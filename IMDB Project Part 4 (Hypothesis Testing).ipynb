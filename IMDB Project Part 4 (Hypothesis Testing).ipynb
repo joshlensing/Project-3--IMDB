{
 "cells": [
  {
   "cell_type": "markdown",
   "id": "42ca545f",
   "metadata": {},
   "source": [
    "# Imports"
   ]
  },
  {
   "cell_type": "code",
   "execution_count": 1,
   "id": "beb2195a",
   "metadata": {},
   "outputs": [],
   "source": [
    "import pandas as pd\n",
    "import numpy as np\n",
    "\n",
    "import matplotlib.pyplot as plt\n",
    "import seaborn as sns\n",
    "import matplotlib as mpl\n",
    "\n",
    "from scipy import stats\n",
    "import scipy\n",
    "from statsmodels.stats.multicomp import pairwise_tukeyhsd"
   ]
  },
  {
   "cell_type": "markdown",
   "id": "8ae96712",
   "metadata": {},
   "source": [
    "# Load in the Dataset"
   ]
  },
  {
   "cell_type": "code",
   "execution_count": 2,
   "id": "276fda88",
   "metadata": {},
   "outputs": [
    {
     "name": "stdout",
     "output_type": "stream",
     "text": [
      "<class 'pandas.core.frame.DataFrame'>\n",
      "RangeIndex: 21628 entries, 0 to 21627\n",
      "Data columns (total 26 columns):\n",
      " #   Column                 Non-Null Count  Dtype  \n",
      "---  ------                 --------------  -----  \n",
      " 0   imdb_id                21628 non-null  object \n",
      " 1   adult                  21628 non-null  float64\n",
      " 2   backdrop_path          15757 non-null  object \n",
      " 3   belongs_to_collection  1324 non-null   object \n",
      " 4   budget                 21628 non-null  float64\n",
      " 5   genres                 21628 non-null  object \n",
      " 6   homepage               5852 non-null   object \n",
      " 7   id                     21628 non-null  float64\n",
      " 8   original_language      21628 non-null  object \n",
      " 9   original_title         21628 non-null  object \n",
      " 10  overview               21164 non-null  object \n",
      " 11  popularity             21628 non-null  float64\n",
      " 12  poster_path            20849 non-null  object \n",
      " 13  production_companies   21628 non-null  object \n",
      " 14  production_countries   21628 non-null  object \n",
      " 15  release_date           21301 non-null  object \n",
      " 16  revenue                21628 non-null  float64\n",
      " 17  runtime                21628 non-null  float64\n",
      " 18  spoken_languages       21628 non-null  object \n",
      " 19  status                 21628 non-null  object \n",
      " 20  tagline                7665 non-null   object \n",
      " 21  title                  21628 non-null  object \n",
      " 22  video                  21628 non-null  float64\n",
      " 23  vote_average           21628 non-null  float64\n",
      " 24  vote_count             21628 non-null  float64\n",
      " 25  certification          4111 non-null   object \n",
      "dtypes: float64(9), object(17)\n",
      "memory usage: 4.3+ MB\n"
     ]
    },
    {
     "data": {
      "text/html": [
       "<div>\n",
       "<style scoped>\n",
       "    .dataframe tbody tr th:only-of-type {\n",
       "        vertical-align: middle;\n",
       "    }\n",
       "\n",
       "    .dataframe tbody tr th {\n",
       "        vertical-align: top;\n",
       "    }\n",
       "\n",
       "    .dataframe thead th {\n",
       "        text-align: right;\n",
       "    }\n",
       "</style>\n",
       "<table border=\"1\" class=\"dataframe\">\n",
       "  <thead>\n",
       "    <tr style=\"text-align: right;\">\n",
       "      <th></th>\n",
       "      <th>imdb_id</th>\n",
       "      <th>adult</th>\n",
       "      <th>backdrop_path</th>\n",
       "      <th>belongs_to_collection</th>\n",
       "      <th>budget</th>\n",
       "      <th>genres</th>\n",
       "      <th>homepage</th>\n",
       "      <th>id</th>\n",
       "      <th>original_language</th>\n",
       "      <th>original_title</th>\n",
       "      <th>...</th>\n",
       "      <th>revenue</th>\n",
       "      <th>runtime</th>\n",
       "      <th>spoken_languages</th>\n",
       "      <th>status</th>\n",
       "      <th>tagline</th>\n",
       "      <th>title</th>\n",
       "      <th>video</th>\n",
       "      <th>vote_average</th>\n",
       "      <th>vote_count</th>\n",
       "      <th>certification</th>\n",
       "    </tr>\n",
       "  </thead>\n",
       "  <tbody>\n",
       "    <tr>\n",
       "      <th>0</th>\n",
       "      <td>tt0369610</td>\n",
       "      <td>0.0</td>\n",
       "      <td>/aIGIYJTyOkEVUmEd3z5x6diYsFx.jpg</td>\n",
       "      <td>{'id': 328, 'name': 'Jurassic Park Collection'...</td>\n",
       "      <td>150000000.0</td>\n",
       "      <td>[{'id': 28, 'name': 'Action'}, {'id': 12, 'nam...</td>\n",
       "      <td>http://www.jurassicworld.com/</td>\n",
       "      <td>135397.0</td>\n",
       "      <td>en</td>\n",
       "      <td>Jurassic World</td>\n",
       "      <td>...</td>\n",
       "      <td>1.671537e+09</td>\n",
       "      <td>124.0</td>\n",
       "      <td>[{'english_name': 'English', 'iso_639_1': 'en'...</td>\n",
       "      <td>Released</td>\n",
       "      <td>The park is open.</td>\n",
       "      <td>Jurassic World</td>\n",
       "      <td>0.0</td>\n",
       "      <td>6.679</td>\n",
       "      <td>18891.0</td>\n",
       "      <td>PG-13</td>\n",
       "    </tr>\n",
       "    <tr>\n",
       "      <th>1</th>\n",
       "      <td>tt0420293</td>\n",
       "      <td>0.0</td>\n",
       "      <td>/b0p0OPx1ZDZVc8iDB1kle0Cc2H9.jpg</td>\n",
       "      <td>NaN</td>\n",
       "      <td>0.0</td>\n",
       "      <td>[{'id': 53, 'name': 'Thriller'}]</td>\n",
       "      <td>http://www.stanfordprisonexperimentfilm.com/</td>\n",
       "      <td>308032.0</td>\n",
       "      <td>en</td>\n",
       "      <td>The Stanford Prison Experiment</td>\n",
       "      <td>...</td>\n",
       "      <td>6.435570e+05</td>\n",
       "      <td>122.0</td>\n",
       "      <td>[{'english_name': 'English', 'iso_639_1': 'en'...</td>\n",
       "      <td>Released</td>\n",
       "      <td>They were given 2 weeks. It lasted 6 days.</td>\n",
       "      <td>The Stanford Prison Experiment</td>\n",
       "      <td>0.0</td>\n",
       "      <td>6.900</td>\n",
       "      <td>835.0</td>\n",
       "      <td>R</td>\n",
       "    </tr>\n",
       "    <tr>\n",
       "      <th>2</th>\n",
       "      <td>tt0462335</td>\n",
       "      <td>0.0</td>\n",
       "      <td>/wESuRMxELPAwo56qFRcoyI4p20F.jpg</td>\n",
       "      <td>NaN</td>\n",
       "      <td>0.0</td>\n",
       "      <td>[{'id': 18, 'name': 'Drama'}]</td>\n",
       "      <td>http://www.highrisefilm.com</td>\n",
       "      <td>254302.0</td>\n",
       "      <td>en</td>\n",
       "      <td>High-Rise</td>\n",
       "      <td>...</td>\n",
       "      <td>3.464720e+05</td>\n",
       "      <td>119.0</td>\n",
       "      <td>[{'english_name': 'French', 'iso_639_1': 'fr',...</td>\n",
       "      <td>Released</td>\n",
       "      <td>Leave the real world behind</td>\n",
       "      <td>High-Rise</td>\n",
       "      <td>0.0</td>\n",
       "      <td>5.700</td>\n",
       "      <td>1025.0</td>\n",
       "      <td>R</td>\n",
       "    </tr>\n",
       "    <tr>\n",
       "      <th>3</th>\n",
       "      <td>tt0478970</td>\n",
       "      <td>0.0</td>\n",
       "      <td>/a7sAqMKv5tkAdMzFfIhPqIBmQ9g.jpg</td>\n",
       "      <td>{'id': 422834, 'name': 'Ant-Man Collection', '...</td>\n",
       "      <td>130000000.0</td>\n",
       "      <td>[{'id': 878, 'name': 'Science Fiction'}, {'id'...</td>\n",
       "      <td>http://marvel.com/movies/movie/180/ant-man</td>\n",
       "      <td>102899.0</td>\n",
       "      <td>en</td>\n",
       "      <td>Ant-Man</td>\n",
       "      <td>...</td>\n",
       "      <td>5.193120e+08</td>\n",
       "      <td>117.0</td>\n",
       "      <td>[{'english_name': 'English', 'iso_639_1': 'en'...</td>\n",
       "      <td>Released</td>\n",
       "      <td>Heroes don't get any bigger.</td>\n",
       "      <td>Ant-Man</td>\n",
       "      <td>0.0</td>\n",
       "      <td>7.083</td>\n",
       "      <td>18094.0</td>\n",
       "      <td>PG-13</td>\n",
       "    </tr>\n",
       "    <tr>\n",
       "      <th>4</th>\n",
       "      <td>tt0787524</td>\n",
       "      <td>0.0</td>\n",
       "      <td>/cJ6dqrHhts085zJTMaXECjp0RfX.jpg</td>\n",
       "      <td>NaN</td>\n",
       "      <td>0.0</td>\n",
       "      <td>[{'id': 18, 'name': 'Drama'}]</td>\n",
       "      <td>http://www.ifcfilms.com/films/the-man-who-knew...</td>\n",
       "      <td>353326.0</td>\n",
       "      <td>en</td>\n",
       "      <td>The Man Who Knew Infinity</td>\n",
       "      <td>...</td>\n",
       "      <td>1.147245e+07</td>\n",
       "      <td>108.0</td>\n",
       "      <td>[{'english_name': 'Sanskrit', 'iso_639_1': 'sa...</td>\n",
       "      <td>Released</td>\n",
       "      <td>What does it take to prove the impossible?</td>\n",
       "      <td>The Man Who Knew Infinity</td>\n",
       "      <td>0.0</td>\n",
       "      <td>7.184</td>\n",
       "      <td>1246.0</td>\n",
       "      <td>PG-13</td>\n",
       "    </tr>\n",
       "  </tbody>\n",
       "</table>\n",
       "<p>5 rows × 26 columns</p>\n",
       "</div>"
      ],
      "text/plain": [
       "     imdb_id  adult                     backdrop_path  \\\n",
       "0  tt0369610    0.0  /aIGIYJTyOkEVUmEd3z5x6diYsFx.jpg   \n",
       "1  tt0420293    0.0  /b0p0OPx1ZDZVc8iDB1kle0Cc2H9.jpg   \n",
       "2  tt0462335    0.0  /wESuRMxELPAwo56qFRcoyI4p20F.jpg   \n",
       "3  tt0478970    0.0  /a7sAqMKv5tkAdMzFfIhPqIBmQ9g.jpg   \n",
       "4  tt0787524    0.0  /cJ6dqrHhts085zJTMaXECjp0RfX.jpg   \n",
       "\n",
       "                               belongs_to_collection       budget  \\\n",
       "0  {'id': 328, 'name': 'Jurassic Park Collection'...  150000000.0   \n",
       "1                                                NaN          0.0   \n",
       "2                                                NaN          0.0   \n",
       "3  {'id': 422834, 'name': 'Ant-Man Collection', '...  130000000.0   \n",
       "4                                                NaN          0.0   \n",
       "\n",
       "                                              genres  \\\n",
       "0  [{'id': 28, 'name': 'Action'}, {'id': 12, 'nam...   \n",
       "1                   [{'id': 53, 'name': 'Thriller'}]   \n",
       "2                      [{'id': 18, 'name': 'Drama'}]   \n",
       "3  [{'id': 878, 'name': 'Science Fiction'}, {'id'...   \n",
       "4                      [{'id': 18, 'name': 'Drama'}]   \n",
       "\n",
       "                                            homepage        id  \\\n",
       "0                      http://www.jurassicworld.com/  135397.0   \n",
       "1       http://www.stanfordprisonexperimentfilm.com/  308032.0   \n",
       "2                        http://www.highrisefilm.com  254302.0   \n",
       "3         http://marvel.com/movies/movie/180/ant-man  102899.0   \n",
       "4  http://www.ifcfilms.com/films/the-man-who-knew...  353326.0   \n",
       "\n",
       "  original_language                  original_title  ...       revenue  \\\n",
       "0                en                  Jurassic World  ...  1.671537e+09   \n",
       "1                en  The Stanford Prison Experiment  ...  6.435570e+05   \n",
       "2                en                       High-Rise  ...  3.464720e+05   \n",
       "3                en                         Ant-Man  ...  5.193120e+08   \n",
       "4                en       The Man Who Knew Infinity  ...  1.147245e+07   \n",
       "\n",
       "   runtime                                   spoken_languages    status  \\\n",
       "0    124.0  [{'english_name': 'English', 'iso_639_1': 'en'...  Released   \n",
       "1    122.0  [{'english_name': 'English', 'iso_639_1': 'en'...  Released   \n",
       "2    119.0  [{'english_name': 'French', 'iso_639_1': 'fr',...  Released   \n",
       "3    117.0  [{'english_name': 'English', 'iso_639_1': 'en'...  Released   \n",
       "4    108.0  [{'english_name': 'Sanskrit', 'iso_639_1': 'sa...  Released   \n",
       "\n",
       "                                      tagline                           title  \\\n",
       "0                           The park is open.                  Jurassic World   \n",
       "1  They were given 2 weeks. It lasted 6 days.  The Stanford Prison Experiment   \n",
       "2                 Leave the real world behind                       High-Rise   \n",
       "3                Heroes don't get any bigger.                         Ant-Man   \n",
       "4  What does it take to prove the impossible?       The Man Who Knew Infinity   \n",
       "\n",
       "   video  vote_average vote_count certification  \n",
       "0    0.0         6.679    18891.0         PG-13  \n",
       "1    0.0         6.900      835.0             R  \n",
       "2    0.0         5.700     1025.0             R  \n",
       "3    0.0         7.083    18094.0         PG-13  \n",
       "4    0.0         7.184     1246.0         PG-13  \n",
       "\n",
       "[5 rows x 26 columns]"
      ]
     },
     "execution_count": 2,
     "metadata": {},
     "output_type": "execute_result"
    }
   ],
   "source": [
    "tmdb = pd.read_csv('Data/2015-2019_tmdb_data.csv.gz')\n",
    "tmdb.info()\n",
    "tmdb.head()"
   ]
  },
  {
   "cell_type": "markdown",
   "id": "32fefdf6",
   "metadata": {},
   "source": [
    "One of the columns that will largely be used will be the 'certification' column. I want to check the value counts for the column to get the total number of certifications."
   ]
  },
  {
   "cell_type": "code",
   "execution_count": 3,
   "id": "1514ae9e",
   "metadata": {},
   "outputs": [
    {
     "data": {
      "text/plain": [
       "R          1446\n",
       "NR         1221\n",
       "PG-13       858\n",
       "PG          403\n",
       "G           132\n",
       "NC-17        47\n",
       "Unrated       4\n",
       "Name: certification, dtype: int64"
      ]
     },
     "execution_count": 3,
     "metadata": {},
     "output_type": "execute_result"
    }
   ],
   "source": [
    "tmdb['certification'].value_counts()"
   ]
  },
  {
   "cell_type": "code",
   "execution_count": 4,
   "id": "79241edf",
   "metadata": {},
   "outputs": [
    {
     "data": {
      "text/plain": [
       "R        1446\n",
       "NR       1225\n",
       "PG-13     858\n",
       "PG        403\n",
       "G         132\n",
       "NC-17      47\n",
       "Name: certification, dtype: int64"
      ]
     },
     "execution_count": 4,
     "metadata": {},
     "output_type": "execute_result"
    }
   ],
   "source": [
    "# Combine 'NR' and 'Unrated' columns\n",
    "tmdb['certification'] = tmdb['certification'].replace({'Unrated': 'NR'})\n",
    "tmdb['certification'].value_counts()"
   ]
  },
  {
   "cell_type": "markdown",
   "id": "0215a1c9",
   "metadata": {},
   "source": [
    "# Does the MPAA rating of a movie (G/PG/PG-13/R) affect how much revenue the movie generates?\n",
    "\n",
    "## State the Null and Alternative Hypothesis\n",
    "- Null Hypothesis: There is no significant difference between MPAA ratings and amount of revenue generated of a movie.\n",
    "- Alternative Hypothesis: There is a significant difference between the MPAA rating of a movie and the amount of revenue generated.\n",
    "\n",
    "\n",
    "## Determining the Correct Test\n",
    "- The data is numeric.\n",
    "- There are 6 groups: MPAA ratings G, PG, PG-13, R, NR, NC-17\n",
    "- Which test to perform? One-Way ANOVA\n",
    "\n",
    "\n",
    "## Visualize and Separate Features for Hypothesis\n",
    "- The target column is 'revenue'\n",
    "- The column that determines the group is 'certification'"
   ]
  },
  {
   "cell_type": "markdown",
   "id": "823a791b",
   "metadata": {},
   "source": [
    "## Remove Columns with Null Certification Values"
   ]
  },
  {
   "cell_type": "code",
   "execution_count": 5,
   "id": "5a973e34",
   "metadata": {},
   "outputs": [
    {
     "data": {
      "text/plain": [
       "imdb_id                     0\n",
       "adult                       0\n",
       "backdrop_path             599\n",
       "belongs_to_collection    3628\n",
       "budget                      0\n",
       "genres                      0\n",
       "homepage                 2141\n",
       "id                          0\n",
       "original_language           0\n",
       "original_title              0\n",
       "overview                   11\n",
       "popularity                  0\n",
       "poster_path                62\n",
       "production_companies        0\n",
       "production_countries        0\n",
       "release_date                0\n",
       "revenue                     0\n",
       "runtime                     0\n",
       "spoken_languages            0\n",
       "status                      0\n",
       "tagline                  1409\n",
       "title                       0\n",
       "video                       0\n",
       "vote_average                0\n",
       "vote_count                  0\n",
       "certification               0\n",
       "dtype: int64"
      ]
     },
     "execution_count": 5,
     "metadata": {},
     "output_type": "execute_result"
    }
   ],
   "source": [
    "cert = tmdb.copy()\n",
    "cert.dropna(subset=['certification'], inplace=True)\n",
    "cert.isna().sum()"
   ]
  },
  {
   "cell_type": "markdown",
   "id": "4e78fdc1",
   "metadata": {},
   "source": [
    "Now that the dataset has been filtered for movies that have certification, I can now compare the 4 groups for revenue amounts."
   ]
  },
  {
   "cell_type": "markdown",
   "id": "04a9e7fe",
   "metadata": {},
   "source": [
    "## Separating the Groups\n",
    "\n",
    "Each group will need to be separated in order to be analyzed"
   ]
  },
  {
   "cell_type": "code",
   "execution_count": 7,
   "id": "2a05bb2d",
   "metadata": {},
   "outputs": [
    {
     "data": {
      "text/plain": [
       "dict_keys(['PG-13', 'R', 'NR', 'PG', 'G', 'NC-17'])"
      ]
     },
     "execution_count": 7,
     "metadata": {},
     "output_type": "execute_result"
    }
   ],
   "source": [
    "groups = {}\n",
    "## Loop through all unique categories\n",
    "for i in cert['certification'].unique():\n",
    "    ## Get series for group and rename\n",
    "    data = cert.loc[cert['certification']==i,'revenue'].copy()\n",
    "    \n",
    "    # save into the dictionary\n",
    "    groups[i] = data\n",
    "groups.keys()"
   ]
  },
  {
   "cell_type": "markdown",
   "id": "29f6ee68",
   "metadata": {},
   "source": [
    "## Test for Normality"
   ]
  },
  {
   "cell_type": "code",
   "execution_count": 8,
   "id": "66d7e83c",
   "metadata": {},
   "outputs": [
    {
     "data": {
      "text/html": [
       "<div>\n",
       "<style scoped>\n",
       "    .dataframe tbody tr th:only-of-type {\n",
       "        vertical-align: middle;\n",
       "    }\n",
       "\n",
       "    .dataframe tbody tr th {\n",
       "        vertical-align: top;\n",
       "    }\n",
       "\n",
       "    .dataframe thead th {\n",
       "        text-align: right;\n",
       "    }\n",
       "</style>\n",
       "<table border=\"1\" class=\"dataframe\">\n",
       "  <thead>\n",
       "    <tr style=\"text-align: right;\">\n",
       "      <th></th>\n",
       "      <th>n</th>\n",
       "      <th>p</th>\n",
       "      <th>test stat</th>\n",
       "    </tr>\n",
       "  </thead>\n",
       "  <tbody>\n",
       "    <tr>\n",
       "      <th>PG-13</th>\n",
       "      <td>858.0</td>\n",
       "      <td>1.297074e-197</td>\n",
       "      <td>906.698304</td>\n",
       "    </tr>\n",
       "    <tr>\n",
       "      <th>R</th>\n",
       "      <td>1446.0</td>\n",
       "      <td>0.000000e+00</td>\n",
       "      <td>1881.210106</td>\n",
       "    </tr>\n",
       "    <tr>\n",
       "      <th>NR</th>\n",
       "      <td>1225.0</td>\n",
       "      <td>0.000000e+00</td>\n",
       "      <td>2160.558226</td>\n",
       "    </tr>\n",
       "    <tr>\n",
       "      <th>PG</th>\n",
       "      <td>403.0</td>\n",
       "      <td>1.476717e-79</td>\n",
       "      <td>363.028801</td>\n",
       "    </tr>\n",
       "    <tr>\n",
       "      <th>G</th>\n",
       "      <td>132.0</td>\n",
       "      <td>3.814987e-55</td>\n",
       "      <td>250.606486</td>\n",
       "    </tr>\n",
       "    <tr>\n",
       "      <th>NC-17</th>\n",
       "      <td>47.0</td>\n",
       "      <td>5.301539e-23</td>\n",
       "      <td>102.582920</td>\n",
       "    </tr>\n",
       "  </tbody>\n",
       "</table>\n",
       "</div>"
      ],
      "text/plain": [
       "            n              p    test stat\n",
       "PG-13   858.0  1.297074e-197   906.698304\n",
       "R      1446.0   0.000000e+00  1881.210106\n",
       "NR     1225.0   0.000000e+00  2160.558226\n",
       "PG      403.0   1.476717e-79   363.028801\n",
       "G       132.0   3.814987e-55   250.606486\n",
       "NC-17    47.0   5.301539e-23   102.582920"
      ]
     },
     "execution_count": 8,
     "metadata": {},
     "output_type": "execute_result"
    }
   ],
   "source": [
    "## Running normal test on each group and confirming there are >20 in each group\n",
    "norm_results = {}\n",
    "for i, data in groups.items():\n",
    "    stat, p = stats.normaltest(data)\n",
    "    ## save the p val, test statistic, and the size of the group\n",
    "    norm_results[i] = {'n': len(data),\n",
    "                             'p':p,\n",
    "                             'test stat':stat,}\n",
    "## convert to a dataframe\n",
    "norm_results_df = pd.DataFrame(norm_results).T\n",
    "norm_results_df"
   ]
  },
  {
   "cell_type": "code",
   "execution_count": 9,
   "id": "8b09a261",
   "metadata": {},
   "outputs": [
    {
     "data": {
      "text/html": [
       "<div>\n",
       "<style scoped>\n",
       "    .dataframe tbody tr th:only-of-type {\n",
       "        vertical-align: middle;\n",
       "    }\n",
       "\n",
       "    .dataframe tbody tr th {\n",
       "        vertical-align: top;\n",
       "    }\n",
       "\n",
       "    .dataframe thead th {\n",
       "        text-align: right;\n",
       "    }\n",
       "</style>\n",
       "<table border=\"1\" class=\"dataframe\">\n",
       "  <thead>\n",
       "    <tr style=\"text-align: right;\">\n",
       "      <th></th>\n",
       "      <th>n</th>\n",
       "      <th>p</th>\n",
       "      <th>test stat</th>\n",
       "      <th>sig</th>\n",
       "    </tr>\n",
       "  </thead>\n",
       "  <tbody>\n",
       "    <tr>\n",
       "      <th>PG-13</th>\n",
       "      <td>858.0</td>\n",
       "      <td>1.297074e-197</td>\n",
       "      <td>906.698304</td>\n",
       "      <td>True</td>\n",
       "    </tr>\n",
       "    <tr>\n",
       "      <th>R</th>\n",
       "      <td>1446.0</td>\n",
       "      <td>0.000000e+00</td>\n",
       "      <td>1881.210106</td>\n",
       "      <td>True</td>\n",
       "    </tr>\n",
       "    <tr>\n",
       "      <th>NR</th>\n",
       "      <td>1225.0</td>\n",
       "      <td>0.000000e+00</td>\n",
       "      <td>2160.558226</td>\n",
       "      <td>True</td>\n",
       "    </tr>\n",
       "    <tr>\n",
       "      <th>PG</th>\n",
       "      <td>403.0</td>\n",
       "      <td>1.476717e-79</td>\n",
       "      <td>363.028801</td>\n",
       "      <td>True</td>\n",
       "    </tr>\n",
       "    <tr>\n",
       "      <th>G</th>\n",
       "      <td>132.0</td>\n",
       "      <td>3.814987e-55</td>\n",
       "      <td>250.606486</td>\n",
       "      <td>True</td>\n",
       "    </tr>\n",
       "    <tr>\n",
       "      <th>NC-17</th>\n",
       "      <td>47.0</td>\n",
       "      <td>5.301539e-23</td>\n",
       "      <td>102.582920</td>\n",
       "      <td>True</td>\n",
       "    </tr>\n",
       "  </tbody>\n",
       "</table>\n",
       "</div>"
      ],
      "text/plain": [
       "            n              p    test stat   sig\n",
       "PG-13   858.0  1.297074e-197   906.698304  True\n",
       "R      1446.0   0.000000e+00  1881.210106  True\n",
       "NR     1225.0   0.000000e+00  2160.558226  True\n",
       "PG      403.0   1.476717e-79   363.028801  True\n",
       "G       132.0   3.814987e-55   250.606486  True\n",
       "NC-17    47.0   5.301539e-23   102.582920  True"
      ]
     },
     "execution_count": 9,
     "metadata": {},
     "output_type": "execute_result"
    }
   ],
   "source": [
    "# checking sig with pandas \n",
    "norm_results_df['sig'] = norm_results_df['p'] < .05 \n",
    "norm_results_df"
   ]
  },
  {
   "cell_type": "markdown",
   "id": "cd48372a",
   "metadata": {},
   "source": [
    "Each group has over 20 samples, so the test for normality can be passed."
   ]
  },
  {
   "cell_type": "markdown",
   "id": "6ce50a10",
   "metadata": {},
   "source": [
    "## Test for Equal Variance"
   ]
  },
  {
   "cell_type": "code",
   "execution_count": 10,
   "id": "426d7e00",
   "metadata": {},
   "outputs": [
    {
     "data": {
      "text/plain": [
       "LeveneResult(statistic=47.39937363782326, pvalue=8.390754236016758e-48)"
      ]
     },
     "execution_count": 10,
     "metadata": {},
     "output_type": "execute_result"
    }
   ],
   "source": [
    "stats.levene(*groups.values())"
   ]
  },
  {
   "cell_type": "markdown",
   "id": "ff0e0f95",
   "metadata": {},
   "source": [
    "Because p < 0.05, the test did meet the assumption for equal variance. An alternate test will need to be used for final ANOVA hypothesis test."
   ]
  },
  {
   "cell_type": "markdown",
   "id": "073ea43e",
   "metadata": {},
   "source": [
    "## Final Hypothesis Test"
   ]
  },
  {
   "cell_type": "code",
   "execution_count": 11,
   "id": "4e3fa645",
   "metadata": {},
   "outputs": [
    {
     "data": {
      "text/plain": [
       "KruskalResult(statistic=580.8012479161063, pvalue=2.8425813727998375e-123)"
      ]
     },
     "execution_count": 11,
     "metadata": {},
     "output_type": "execute_result"
    }
   ],
   "source": [
    "# using alternate test, ''\n",
    "result = stats.kruskal( *groups.values())\n",
    "result"
   ]
  },
  {
   "cell_type": "markdown",
   "id": "fc7c1bec",
   "metadata": {},
   "source": [
    "The p-value is significantly less than alpha (0.05), but with 6 different groups, it's hard to know which ones, or all, are less than alpha. I now need to use Tukey's Pairwise Multiple Comparisons Test in order to find which ones are significantly less."
   ]
  },
  {
   "cell_type": "markdown",
   "id": "9b03e1ef",
   "metadata": {},
   "source": [
    "### Tukey's Pairwise Multiple Comparisons Test"
   ]
  },
  {
   "cell_type": "code",
   "execution_count": 12,
   "id": "fda92008",
   "metadata": {},
   "outputs": [],
   "source": [
    "# save the values as revenue and the labels to the certification\n",
    "values = cert['revenue']\n",
    "labels = cert['certification']"
   ]
  },
  {
   "cell_type": "code",
   "execution_count": 13,
   "id": "9fbb87ca",
   "metadata": {},
   "outputs": [
    {
     "data": {
      "text/html": [
       "<table class=\"simpletable\">\n",
       "<caption>Multiple Comparison of Means - Tukey HSD, FWER=0.05</caption>\n",
       "<tr>\n",
       "  <th>group1</th> <th>group2</th>    <th>meandiff</th>     <th>p-adj</th>      <th>lower</th>          <th>upper</th>     <th>reject</th>\n",
       "</tr>\n",
       "<tr>\n",
       "     <td>G</td>    <td>NC-17</td> <td>-16700303.3272</td> <td>0.9822</td> <td>-84890435.6619</td>  <td>51489829.0075</td>  <td>False</td>\n",
       "</tr>\n",
       "<tr>\n",
       "     <td>G</td>     <td>NR</td>   <td>-15275837.2685</td> <td>0.8446</td> <td>-52051950.3573</td>  <td>21500275.8203</td>  <td>False</td>\n",
       "</tr>\n",
       "<tr>\n",
       "     <td>G</td>     <td>PG</td>    <td>63373985.3984</td> <td>0.0001</td>  <td>23114491.1653</td> <td>103633479.6315</td>  <td>True</td> \n",
       "</tr>\n",
       "<tr>\n",
       "     <td>G</td>    <td>PG-13</td>  <td>67562578.9557</td>   <td>0.0</td>   <td>30029179.5665</td> <td>105095978.3449</td>  <td>True</td> \n",
       "</tr>\n",
       "<tr>\n",
       "     <td>G</td>      <td>R</td>    <td>3302334.1328</td>  <td>0.9998</td> <td>-33199383.3748</td>  <td>39804051.6405</td>  <td>False</td>\n",
       "</tr>\n",
       "<tr>\n",
       "   <td>NC-17</td>   <td>NR</td>    <td>1424466.0587</td>    <td>1.0</td>   <td>-58245734.105</td>  <td>61094666.2224</td>  <td>False</td>\n",
       "</tr>\n",
       "<tr>\n",
       "   <td>NC-17</td>   <td>PG</td>    <td>80074288.7256</td> <td>0.0031</td>  <td>18196367.2224</td> <td>141952210.2289</td>  <td>True</td> \n",
       "</tr>\n",
       "<tr>\n",
       "   <td>NC-17</td>  <td>PG-13</td>  <td>84262882.2829</td> <td>0.0009</td>  <td>24122992.3315</td> <td>144402772.2343</td>  <td>True</td> \n",
       "</tr>\n",
       "<tr>\n",
       "   <td>NC-17</td>    <td>R</td>    <td>20002637.4601</td> <td>0.9309</td> <td>-39498838.7793</td>  <td>79504113.6994</td>  <td>False</td>\n",
       "</tr>\n",
       "<tr>\n",
       "    <td>NR</td>     <td>PG</td>    <td>78649822.6669</td>   <td>0.0</td>   <td>55596286.8067</td> <td>101703358.5271</td>  <td>True</td> \n",
       "</tr>\n",
       "<tr>\n",
       "    <td>NR</td>    <td>PG-13</td>  <td>82838416.2242</td>   <td>0.0</td>   <td>64966798.797</td>  <td>100710033.6514</td>  <td>True</td> \n",
       "</tr>\n",
       "<tr>\n",
       "    <td>NR</td>      <td>R</td>    <td>18578171.4013</td>  <td>0.009</td>  <td>2989264.4236</td>   <td>34167078.3791</td>  <td>True</td> \n",
       "</tr>\n",
       "<tr>\n",
       "    <td>PG</td>    <td>PG-13</td>  <td>4188593.5573</td>  <td>0.9964</td> <td>-20054737.3081</td>  <td>28431924.4227</td>  <td>False</td>\n",
       "</tr>\n",
       "<tr>\n",
       "    <td>PG</td>      <td>R</td>   <td>-60071651.2656</td>   <td>0.0</td>   <td>-82684886.389</td> <td>-37458416.1422</td>  <td>True</td> \n",
       "</tr>\n",
       "<tr>\n",
       "   <td>PG-13</td>    <td>R</td>   <td>-64260244.8229</td>   <td>0.0</td>  <td>-81560175.3589</td> <td>-46960314.2868</td>  <td>True</td> \n",
       "</tr>\n",
       "</table>"
      ],
      "text/plain": [
       "<class 'statsmodels.iolib.table.SimpleTable'>"
      ]
     },
     "execution_count": 13,
     "metadata": {},
     "output_type": "execute_result"
    }
   ],
   "source": [
    "# perform tukey's multiple comparison test and display the summary\n",
    "tukeys_results = pairwise_tukeyhsd(values,labels)\n",
    "tukeys_results.summary()"
   ]
  },
  {
   "cell_type": "markdown",
   "id": "abb6d408",
   "metadata": {},
   "source": [
    "From the summary above, there are more certifications that are significantly different than those that are not.\n",
    "\n",
    "- G is significantly different than PG and PG-13\n",
    "- PG is significantly different than G, NC-17, NR, and R\n",
    "- PG-13 is significantly different than G, PG, R, NR, and NC-17\n",
    "- R is significantly different than PG, PG-13, and NR\n",
    "- NR is significantly different than PG, PG-13, and R\n",
    "- NC-17 is significantly different than PG and PG-13"
   ]
  },
  {
   "cell_type": "markdown",
   "id": "ca07470e",
   "metadata": {},
   "source": [
    "## Visualizing Groups and Revenue"
   ]
  },
  {
   "cell_type": "code",
   "execution_count": 14,
   "id": "e06ebf21",
   "metadata": {},
   "outputs": [
    {
     "data": {
      "image/png": "[encoded data removed]",
      "text/plain": [
       "<Figure size 1000x800 with 1 Axes>"
      ]
     },
     "metadata": {},
     "output_type": "display_data"
    }
   ],
   "source": [
    "fig, ax = plt.subplots(figsize=(10,8))\n",
    "sns.barplot(data=cert, x='certification',y='revenue');\n",
    "\n",
    "price_fmt = mpl.ticker.StrMethodFormatter('${x:,.0f}')\n",
    "ax.yaxis.set_major_formatter(price_fmt)"
   ]
  },
  {
   "cell_type": "markdown",
   "id": "68403acd",
   "metadata": {},
   "source": [
    "## Final Conclusion\n",
    "\n",
    "Based on the p-values that are lower than alpha, PG and PG-13 movies are the most significantly different from all movie certifications, and on average, generate the most revenue out of all 6 certifications."
   ]
  },
  {
   "cell_type": "markdown",
   "id": "251c76a1",
   "metadata": {},
   "source": [
    "# Do movies that are over 2.5 hours long earn more revenue than movies that are 1.5 hours long (or less)?\n",
    "\n",
    "## State the Null and Alternative Hypothesis\n",
    "- Null Hypothesis: There is no significant difference in revenue between movies that are over 2.5 hours long and movies that are less than 1.5 hours.\n",
    "- Alternative Hypothesis: There is a significant difference in revenue between movies that are over 2.5 hours long and movies that are less than 1.5 hours.\n",
    "\n",
    "\n",
    "## Determining the Correct Test\n",
    "- The data is numeric.\n",
    "- There are 2 groups: Movies < 1.5 hours long and movies > 2.5 hours\n",
    "- Which test to perform? 2 sample T-Test\n",
    "\n",
    "\n",
    "## Visualize and Separate Features for Hypothesis\n",
    "- The target column is 'revenue'\n",
    "- The column that determines the group is 'runtime'"
   ]
  },
  {
   "cell_type": "markdown",
   "id": "c7f88665",
   "metadata": {},
   "source": [
    "## Filter for Movie Runtimes"
   ]
  },
  {
   "cell_type": "code",
   "execution_count": 18,
   "id": "f516b750",
   "metadata": {},
   "outputs": [],
   "source": [
    "short_df = tmdb.loc[tmdb['runtime']>=90].copy()\n",
    "long_df = tmdb.loc[tmdb['runtime']<=150].copy()"
   ]
  },
  {
   "cell_type": "code",
   "execution_count": 19,
   "id": "b72b2e7f",
   "metadata": {},
   "outputs": [],
   "source": [
    "# define features of interest\n",
    "short = short_df['revenue']\n",
    "long = long_df['revenue']"
   ]
  },
  {
   "cell_type": "markdown",
   "id": "3b7470a8",
   "metadata": {},
   "source": [
    "## Check for and Remove Outliers"
   ]
  },
  {
   "cell_type": "code",
   "execution_count": 21,
   "id": "3afbd84c",
   "metadata": {},
   "outputs": [
    {
     "name": "stdout",
     "output_type": "stream",
     "text": [
      "There are 153 outliers in the short runtime group out of 13598.\n"
     ]
    }
   ],
   "source": [
    "# Check for outliers in revenue for runtime\n",
    "short_outliers = np.abs(stats.zscore(short)) > 3\n",
    "short_outliers.sum()\n",
    "print(f'There are {short_outliers.sum()} outliers in the short runtime group out of {len(short)}.')"
   ]
  },
  {
   "cell_type": "code",
   "execution_count": 22,
   "id": "20585ac0",
   "metadata": {},
   "outputs": [
    {
     "data": {
      "text/plain": [
       "1          643557.0\n",
       "2          346472.0\n",
       "4        11472454.0\n",
       "5         3460466.0\n",
       "6        64191523.0\n",
       "            ...    \n",
       "21620           0.0\n",
       "21622           0.0\n",
       "21623           0.0\n",
       "21624           0.0\n",
       "21627           0.0\n",
       "Name: revenue, Length: 13445, dtype: float64"
      ]
     },
     "execution_count": 22,
     "metadata": {},
     "output_type": "execute_result"
    }
   ],
   "source": [
    "# remove the outliers\n",
    "short = short.loc[~short_outliers]\n",
    "short"
   ]
  },
  {
   "cell_type": "code",
   "execution_count": 23,
   "id": "ab09ad86",
   "metadata": {},
   "outputs": [
    {
     "name": "stdout",
     "output_type": "stream",
     "text": [
      "There are 192 outliers in the long runtime group out of 21210.\n"
     ]
    }
   ],
   "source": [
    "# Check for outliers in revenue for runtime\n",
    "long_outliers = np.abs(stats.zscore(long)) > 3\n",
    "long_outliers.sum()\n",
    "print(f'There are {long_outliers.sum()} outliers in the long runtime group out of {len(long)}.')"
   ]
  },
  {
   "cell_type": "code",
   "execution_count": 24,
   "id": "57b144b2",
   "metadata": {},
   "outputs": [
    {
     "data": {
      "text/plain": [
       "1          643557.0\n",
       "2          346472.0\n",
       "4        11472454.0\n",
       "5         3460466.0\n",
       "6        64191523.0\n",
       "            ...    \n",
       "21623           0.0\n",
       "21624           0.0\n",
       "21625           0.0\n",
       "21626           0.0\n",
       "21627           0.0\n",
       "Name: revenue, Length: 21018, dtype: float64"
      ]
     },
     "execution_count": 24,
     "metadata": {},
     "output_type": "execute_result"
    }
   ],
   "source": [
    "# remove the outliers\n",
    "long = long.loc[~long_outliers]\n",
    "long"
   ]
  },
  {
   "cell_type": "code",
   "execution_count": 26,
   "id": "fd3cfd15",
   "metadata": {},
   "outputs": [
    {
     "data": {
      "text/plain": [
       "(13598, 13445)"
      ]
     },
     "execution_count": 26,
     "metadata": {},
     "output_type": "execute_result"
    }
   ],
   "source": [
    "# checking for outlier removal from short runtime\n",
    "len(short_df), len(short)"
   ]
  },
  {
   "cell_type": "code",
   "execution_count": 27,
   "id": "65ead978",
   "metadata": {},
   "outputs": [
    {
     "data": {
      "text/plain": [
       "(21210, 21018)"
      ]
     },
     "execution_count": 27,
     "metadata": {},
     "output_type": "execute_result"
    }
   ],
   "source": [
    "# checking for outlier removal from long runtime\n",
    "len(long_df), len(long)"
   ]
  },
  {
   "cell_type": "markdown",
   "id": "0e501c04",
   "metadata": {},
   "source": [
    "The outliers have been successfully removed."
   ]
  },
  {
   "cell_type": "markdown",
   "id": "8d0fc7a3",
   "metadata": {},
   "source": [
    "## Normality Test\n",
    "\n",
    "Since the length for each group satisfies the need for at least 20 samples, I can pass the test for Normality, even if the data is not distributed normally. There is no need to perform this test because of this and I will now move on to test for equal variance between the groups."
   ]
  },
  {
   "cell_type": "markdown",
   "id": "310242b9",
   "metadata": {},
   "source": [
    "## Test for Assumption of Equal Variances"
   ]
  },
  {
   "cell_type": "code",
   "execution_count": 28,
   "id": "d15c45cb",
   "metadata": {},
   "outputs": [
    {
     "name": "stdout",
     "output_type": "stream",
     "text": [
      "LeveneResult(statistic=89.71518227951432, pvalue=2.91921800169522e-21)\n"
     ]
    }
   ],
   "source": [
    "# Use Levene's test for equal variance\n",
    "result = stats.levene(short, long)\n",
    "print(result)"
   ]
  },
  {
   "cell_type": "code",
   "execution_count": 29,
   "id": "779e9a01",
   "metadata": {},
   "outputs": [
    {
     "name": "stdout",
     "output_type": "stream",
     "text": [
      "The groups do NOT have equal variance.\n"
     ]
    }
   ],
   "source": [
    "# Use an if-else to help interpret the p-value\n",
    "if result.pvalue < .05:\n",
    "    print(f\"The groups do NOT have equal variance.\")\n",
    "else:\n",
    "    print(f\"The groups DO have equal variance.\")"
   ]
  },
  {
   "cell_type": "markdown",
   "id": "3c85cde1",
   "metadata": {},
   "source": [
    "Because the groups do not have equal variance, I will need to use 'equal_var=False when running the final hypothesis test."
   ]
  },
  {
   "cell_type": "code",
   "execution_count": 30,
   "id": "2b389341",
   "metadata": {},
   "outputs": [
    {
     "name": "stdout",
     "output_type": "stream",
     "text": [
      "Ttest_indResult(statistic=8.671895516733509, pvalue=4.555940312126729e-18)\n"
     ]
    },
    {
     "data": {
      "text/plain": [
       "True"
      ]
     },
     "execution_count": 30,
     "metadata": {},
     "output_type": "execute_result"
    }
   ],
   "source": [
    "## run final hypothess test\n",
    "result = stats.ttest_ind(short, long, equal_var=False)\n",
    "print(result)\n",
    "result.pvalue  < .05"
   ]
  },
  {
   "cell_type": "code",
   "execution_count": 31,
   "id": "5bb2f32e",
   "metadata": {},
   "outputs": [
    {
     "name": "stdout",
     "output_type": "stream",
     "text": [
      "The mean revenue of short runtime is 3792534.37\n",
      "The mean revenue of long runtime is 2061379.1\n"
     ]
    }
   ],
   "source": [
    "# showing the mean for each group\n",
    "print(f'The mean revenue of short runtime is {short.mean().round(2)}')\n",
    "print(f'The mean revenue of long runtime is {long.mean().round(2)}')"
   ]
  },
  {
   "cell_type": "markdown",
   "id": "db15de7a",
   "metadata": {},
   "source": [
    "## Final Conclusion\n",
    "\n",
    "The p-value < 0.05, so therefore I reject the null hypothesis and support the alternative hypothesis that there is a significant difference in revenue between movies that are shorter than 1.5 hours and longer than 2.5 hours. The mean revenue for movies shorter than 1.5 hours is much higher at 3.8 million dollars than movies longer than 2.5 hours at 2.06 million dollars."
   ]
  },
  {
   "cell_type": "code",
   "execution_count": null,
   "id": "2d8642d0",
   "metadata": {},
   "outputs": [],
   "source": []
  }
 ],
 "metadata": {
  "kernelspec": {
   "display_name": "Python (dojo-env)",
   "language": "python",
   "name": "dojo-env"
  },
  "language_info": {
   "codemirror_mode": {
    "name": "ipython",
    "version": 3
   },
   "file_extension": ".py",
   "mimetype": "text/x-python",
   "name": "python",
   "nbconvert_exporter": "python",
   "pygments_lexer": "ipython3",
   "version": "3.9.15"
  },
  "toc": {
   "base_numbering": 1,
   "nav_menu": {},
   "number_sections": true,
   "sideBar": true,
   "skip_h1_title": false,
   "title_cell": "Table of Contents",
   "title_sidebar": "Contents",
   "toc_cell": false,
   "toc_position": {},
   "toc_section_display": true,
   "toc_window_display": false
  }
 },
 "nbformat": 4,
 "nbformat_minor": 5
}
